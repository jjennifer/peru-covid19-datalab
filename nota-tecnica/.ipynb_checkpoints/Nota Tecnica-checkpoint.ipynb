{
 "cells": [
  {
   "cell_type": "markdown",
   "metadata": {},
   "source": [
    "## Nota tecnica: \n",
    "### Elaboración de ratio distrital de cobertura de hogares en pobreza monetaria con transferencia\n",
    "\n",
    "#### <i> Articulo: 'Los bonos para enfrentar la pandemia: avances, retos y siguientes pasos' </i>\n"
   ]
  },
  {
   "cell_type": "markdown",
   "metadata": {},
   "source": [
    "Para calcular el ratio se realizó una aproximación sencilla de la magnitud en la que las transferencias monetarias están atendiendo a distritos según sus niveles de pobreza distrital. \n",
    "\n",
    "Esta medición no permite identificar si los hogares en situación de pobreza determinados por el INEI son aquellos que han recibido un Bono COVID-19 o un Bono Independiente, debido a que estos estímulos son asignados en función a otras bases de datos. Por ende, este ejercicio debe ser interpretado como una aproximación a la atención a nivel distrital. \n",
    "\n",
    "Sobre la base de las estimaciones del <i> Mapa de Pobreza Monetaria Provincial y Distrital 2018</i> elaborado por el INEI, es posible definir un ratio denominado el <b> “ratio distrital de cobertura de hogares en pobreza monetaria con transferencias”</b>, denotado brevemente como $\\bar{P}_{b}$. \n",
    "\n",
    "El primer paso de su definición consiste en definir,\n",
    "$$P_{b} = \\frac{\\text{Numero de hogares que viven en pobreza monetaria}}{\\text{Número de hogares que reciben bono}}$$\n",
    "\n",
    "Luego se discretiza y normaliza $P_{b}$ con los valores $0$ y $1$, tal que $\\bar{P}_{b} \\in \\{0,1\\}$ de acuerdo a la siguiente definición,\n",
    "$$ \\bar{P}_{b} = \\begin{cases} 0, & \\mbox{if } P_{b} \\leq 1 \\\\ \n",
    "1, & \\mbox{if } P_{b}>1 \\\\\n",
    "\\end{cases}$$\n",
    "\n",
    "Los valores que resultan son los siguientes: $0$ es el valor que denota una atención insuficiente por medio de transferencias, pues el número de hogares beneficiados se ubica por debajo del número de hogares que viven en pobreza en el distrito; el valor de $1$ denota una atención suficiente por medio de bonos, pues el número de hogares beneficiarios cubre una proporción de hogares que es mayor la proporción de hogares que viven en pobreza en dicho distrito. \n"
   ]
  },
  {
   "cell_type": "code",
   "execution_count": null,
   "metadata": {},
   "outputs": [],
   "source": []
  }
 ],
 "metadata": {
  "kernelspec": {
   "display_name": "Python 3",
   "language": "python",
   "name": "python3"
  },
  "language_info": {
   "codemirror_mode": {
    "name": "ipython",
    "version": 3
   },
   "file_extension": ".py",
   "mimetype": "text/x-python",
   "name": "python",
   "nbconvert_exporter": "python",
   "pygments_lexer": "ipython3",
   "version": "3.7.4"
  }
 },
 "nbformat": 4,
 "nbformat_minor": 2
}
