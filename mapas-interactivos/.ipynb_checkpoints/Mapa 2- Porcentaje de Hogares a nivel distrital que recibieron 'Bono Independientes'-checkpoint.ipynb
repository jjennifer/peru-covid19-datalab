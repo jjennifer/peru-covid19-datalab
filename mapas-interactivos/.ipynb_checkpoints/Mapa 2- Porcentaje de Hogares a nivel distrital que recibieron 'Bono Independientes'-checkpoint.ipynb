{
 "cells": [
  {
   "cell_type": "markdown",
   "metadata": {},
   "source": [
    "# Mapa 2- Porcentaje de hogares a nivel distrital que recibieron 'Bono Independientes' \n",
    "\n",
    "Fuente: MTPE, Portal de Datos Abiertos (PCM- Secretaria Digital)"
   ]
  },
  {
   "cell_type": "code",
   "execution_count": 2,
   "metadata": {},
   "outputs": [
    {
     "data": {
      "text/html": [
       "\n",
       "        <iframe\n",
       "            width=\"800\"\n",
       "            height=\"900\"\n",
       "            src=\"mapa2_bono_independientes.html\"\n",
       "            frameborder=\"0\"\n",
       "            allowfullscreen\n",
       "        ></iframe>\n",
       "        "
      ],
      "text/plain": [
       "<IPython.lib.display.IFrame at 0x1076680d0>"
      ]
     },
     "execution_count": 2,
     "metadata": {},
     "output_type": "execute_result"
    }
   ],
   "source": [
    "# Display the map\n",
    "from IPython.display import IFrame\n",
    "IFrame(src='mapa2_bono_independientes.html', width=800, height=900)"
   ]
  }
 ],
 "metadata": {
  "kernelspec": {
   "display_name": "Python 3",
   "language": "python",
   "name": "python3"
  },
  "language_info": {
   "codemirror_mode": {
    "name": "ipython",
    "version": 3
   },
   "file_extension": ".py",
   "mimetype": "text/x-python",
   "name": "python",
   "nbconvert_exporter": "python",
   "pygments_lexer": "ipython3",
   "version": "3.7.4"
  }
 },
 "nbformat": 4,
 "nbformat_minor": 2
}
